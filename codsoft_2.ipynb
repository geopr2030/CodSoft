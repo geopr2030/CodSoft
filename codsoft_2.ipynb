{
  "nbformat": 4,
  "nbformat_minor": 0,
  "metadata": {
    "colab": {
      "provenance": [],
      "authorship_tag": "ABX9TyPzKvSbg9Jk7L1l1cI4OBlP"
    },
    "kernelspec": {
      "name": "python3",
      "display_name": "Python 3"
    },
    "language_info": {
      "name": "python"
    }
  },
  "cells": [
    {
      "cell_type": "markdown",
      "source": [
        "1. Load the Dataset"
      ],
      "metadata": {
        "id": "Mqz-x1GHK0CL"
      }
    },
    {
      "cell_type": "code",
      "execution_count": null,
      "metadata": {
        "colab": {
          "base_uri": "https://localhost:8080/"
        },
        "id": "hkR7GP-gDMHe",
        "outputId": "a860793b-0701-4643-9798-0e6ddab4862d"
      },
      "outputs": [
        {
          "output_type": "stream",
          "name": "stdout",
          "text": [
            "   Unnamed: 0 trans_date_trans_time            cc_num  \\\n",
            "0           0   2019-01-01 00:00:18  2703186189652095   \n",
            "1           1   2019-01-01 00:00:44      630423337322   \n",
            "2           2   2019-01-01 00:00:51    38859492057661   \n",
            "3           3   2019-01-01 00:01:16  3534093764340240   \n",
            "4           4   2019-01-01 00:03:06   375534208663984   \n",
            "\n",
            "                             merchant       category     amt      first  \\\n",
            "0          fraud_Rippin, Kub and Mann       misc_net    4.97   Jennifer   \n",
            "1     fraud_Heller, Gutmann and Zieme    grocery_pos  107.23  Stephanie   \n",
            "2                fraud_Lind-Buckridge  entertainment  220.11     Edward   \n",
            "3  fraud_Kutch, Hermiston and Farrell  gas_transport   45.00     Jeremy   \n",
            "4                 fraud_Keeling-Crist       misc_pos   41.96      Tyler   \n",
            "\n",
            "      last gender                        street  ...      lat      long  \\\n",
            "0    Banks      F                561 Perry Cove  ...  36.0788  -81.1781   \n",
            "1     Gill      F  43039 Riley Greens Suite 393  ...  48.8878 -118.2105   \n",
            "2  Sanchez      M      594 White Dale Suite 530  ...  42.1808 -112.2620   \n",
            "3    White      M   9443 Cynthia Court Apt. 038  ...  46.2306 -112.1138   \n",
            "4   Garcia      M              408 Bradley Rest  ...  38.4207  -79.4629   \n",
            "\n",
            "   city_pop                                job         dob  \\\n",
            "0      3495          Psychologist, counselling  1988-03-09   \n",
            "1       149  Special educational needs teacher  1978-06-21   \n",
            "2      4154        Nature conservation officer  1962-01-19   \n",
            "3      1939                    Patent attorney  1967-01-12   \n",
            "4        99     Dance movement psychotherapist  1986-03-28   \n",
            "\n",
            "                          trans_num     unix_time  merch_lat  merch_long  \\\n",
            "0  0b242abb623afc578575680df30655b9  1.325376e+09  36.011293  -82.048315   \n",
            "1  1f76529f8574734946361c461b024d99  1.325376e+09  49.159047 -118.186462   \n",
            "2  a1a22d70485983eac12b5b88dad1cf95  1.325376e+09  43.150704 -112.154481   \n",
            "3  6b849c168bdad6f867558c3793159a81  1.325376e+09  47.034331 -112.561071   \n",
            "4  a41d7549acf90789359a9aa5346dcb46  1.325376e+09  38.674999  -78.632459   \n",
            "\n",
            "   is_fraud  \n",
            "0       0.0  \n",
            "1       0.0  \n",
            "2       0.0  \n",
            "3       0.0  \n",
            "4       0.0  \n",
            "\n",
            "[5 rows x 23 columns]\n",
            "Index(['Unnamed: 0', 'trans_date_trans_time', 'cc_num', 'merchant', 'category',\n",
            "       'amt', 'first', 'last', 'gender', 'street', 'city', 'state', 'zip',\n",
            "       'lat', 'long', 'city_pop', 'job', 'dob', 'trans_num', 'unix_time',\n",
            "       'merch_lat', 'merch_long', 'is_fraud'],\n",
            "      dtype='object')\n"
          ]
        }
      ],
      "source": [
        "# Importing necessary libraries\n",
        "import pandas as pd\n",
        "import numpy as np\n",
        "import matplotlib.pyplot as plt\n",
        "import seaborn as sns\n",
        "from sklearn.model_selection import train_test_split\n",
        "from sklearn.preprocessing import StandardScaler, OneHotEncoder\n",
        "from sklearn.compose import ColumnTransformer\n",
        "from sklearn.pipeline import Pipeline\n",
        "from sklearn.linear_model import LogisticRegression\n",
        "from sklearn.tree import DecisionTreeClassifier\n",
        "from sklearn.ensemble import RandomForestClassifier\n",
        "from sklearn.metrics import classification_report, confusion_matrix, roc_curve, roc_auc_score\n",
        "\n",
        "# Load the dataset\n",
        "data = pd.read_csv('fraudTrain.csv')\n",
        "\n",
        "# Inspecting the first few rows of the dataset\n",
        "print(data.head())\n",
        "\n",
        "# Inspecting the dataset columns\n",
        "print(data.columns)\n"
      ]
    },
    {
      "cell_type": "markdown",
      "source": [
        "2. Data Preprocessing"
      ],
      "metadata": {
        "id": "yW2XBYoKK3pW"
      }
    },
    {
      "cell_type": "code",
      "source": [
        "# Check for missing values\n",
        "print(data.isnull().sum())\n",
        "\n",
        "# Drop columns that are not needed\n",
        "data = data.drop(['Unnamed: 0', 'trans_date_trans_time', 'cc_num', 'first', 'last', 'street', 'city', 'state', 'zip', 'lat', 'long', 'job', 'dob', 'trans_num', 'unix_time', 'merch_lat', 'merch_long'], axis=1)\n",
        "\n",
        "# Check and handle missing values in 'is_fraud'\n",
        "data = data.dropna(subset=['is_fraud'])\n",
        "\n",
        "# Identify categorical and numerical columns\n",
        "categorical_features = ['merchant', 'category', 'gender']\n",
        "numerical_features = ['amt', 'city_pop']\n",
        "\n",
        "# Preprocessing pipeline for numerical features\n",
        "numerical_transformer = Pipeline(steps=[\n",
        "    ('scaler', StandardScaler())\n",
        "])\n",
        "\n",
        "# Preprocessing pipeline for categorical features\n",
        "categorical_transformer = Pipeline(steps=[\n",
        "    ('onehot', OneHotEncoder(handle_unknown='ignore'))\n",
        "])\n",
        "\n",
        "# Combine preprocessing steps\n",
        "preprocessor = ColumnTransformer(\n",
        "    transformers=[\n",
        "        ('num', numerical_transformer, numerical_features),\n",
        "        ('cat', categorical_transformer, categorical_features)\n",
        "    ])\n",
        "\n",
        "# Define the model pipeline\n",
        "model = Pipeline(steps=[\n",
        "    ('preprocessor', preprocessor),\n",
        "    ('classifier', LogisticRegression())\n",
        "])\n",
        "\n",
        "# Define features and target variable\n",
        "X = data.drop('is_fraud', axis=1)\n",
        "y = data['is_fraud']\n",
        "\n",
        "# Split the dataset\n",
        "X_train, X_test, y_train, y_test = train_test_split(X, y, test_size=0.2, random_state=42)\n"
      ],
      "metadata": {
        "colab": {
          "base_uri": "https://localhost:8080/"
        },
        "id": "a6HMJ76YDTNC",
        "outputId": "6f7df02e-fa79-444e-8e88-5e532a23bfb1"
      },
      "execution_count": null,
      "outputs": [
        {
          "output_type": "stream",
          "name": "stdout",
          "text": [
            "Unnamed: 0               0\n",
            "trans_date_trans_time    0\n",
            "cc_num                   0\n",
            "merchant                 0\n",
            "category                 0\n",
            "amt                      0\n",
            "first                    0\n",
            "last                     0\n",
            "gender                   0\n",
            "street                   0\n",
            "city                     0\n",
            "state                    0\n",
            "zip                      0\n",
            "lat                      0\n",
            "long                     0\n",
            "city_pop                 0\n",
            "job                      1\n",
            "dob                      1\n",
            "trans_num                1\n",
            "unix_time                1\n",
            "merch_lat                1\n",
            "merch_long               1\n",
            "is_fraud                 1\n",
            "dtype: int64\n"
          ]
        }
      ]
    },
    {
      "cell_type": "markdown",
      "source": [
        "3. Model Building"
      ],
      "metadata": {
        "id": "BJ1plL4AK8C5"
      }
    },
    {
      "cell_type": "code",
      "source": [
        "# Logistic Regression with increased max_iter\n",
        "model.set_params(classifier=LogisticRegression(max_iter=1000))\n",
        "model.fit(X_train, y_train)\n",
        "\n",
        "# Predictions\n",
        "y_pred_lr = model.predict(X_test)\n",
        "\n",
        "# Evaluation\n",
        "print(\"Logistic Regression:\")\n",
        "print(classification_report(y_test, y_pred_lr))\n",
        "print(confusion_matrix(y_test, y_pred_lr))\n",
        "\n",
        "# ROC Curve\n",
        "y_prob_lr = model.predict_proba(X_test)[:, 1]\n",
        "fpr_lr, tpr_lr, _ = roc_curve(y_test, y_prob_lr)\n",
        "plt.plot(fpr_lr, tpr_lr, label='Logistic Regression (AUC = {:.2f})'.format(roc_auc_score(y_test, y_prob_lr)))\n"
      ],
      "metadata": {
        "colab": {
          "base_uri": "https://localhost:8080/",
          "height": 656
        },
        "id": "EPuFic1_DY0I",
        "outputId": "70c6dc16-ee1c-4b17-9052-ba75612d66af"
      },
      "execution_count": null,
      "outputs": [
        {
          "output_type": "stream",
          "name": "stdout",
          "text": [
            "Logistic Regression:\n",
            "              precision    recall  f1-score   support\n",
            "\n",
            "         0.0       0.99      1.00      0.99     16180\n",
            "         1.0       0.20      0.04      0.06       161\n",
            "\n",
            "    accuracy                           0.99     16341\n",
            "   macro avg       0.60      0.52      0.53     16341\n",
            "weighted avg       0.98      0.99      0.99     16341\n",
            "\n",
            "[[16156    24]\n",
            " [  155     6]]\n"
          ]
        },
        {
          "output_type": "execute_result",
          "data": {
            "text/plain": [
              "[<matplotlib.lines.Line2D at 0x7988049eee00>]"
            ]
          },
          "metadata": {},
          "execution_count": 46
        },
        {
          "output_type": "display_data",
          "data": {
            "text/plain": [
              "<Figure size 640x480 with 1 Axes>"
            ],
            "image/png": "[encoded data removed]"
          },
          "metadata": {}
        }
      ]
    },
    {
      "cell_type": "code",
      "source": [
        "# Decision Tree\n",
        "model.set_params(classifier=DecisionTreeClassifier())\n",
        "model.fit(X_train, y_train)\n",
        "\n",
        "# Predictions\n",
        "y_pred_dt = model.predict(X_test)\n",
        "\n",
        "# Evaluation\n",
        "print(\"Decision Tree:\")\n",
        "print(classification_report(y_test, y_pred_dt))\n",
        "print(confusion_matrix(y_test, y_pred_dt))\n",
        "\n",
        "# ROC Curve\n",
        "y_prob_dt = model.predict_proba(X_test)[:, 1]\n",
        "fpr_dt, tpr_dt, _ = roc_curve(y_test, y_prob_dt)\n",
        "plt.plot(fpr_dt, tpr_dt, label='Decision Tree (AUC = {:.2f})'.format(roc_auc_score(y_test, y_prob_dt)))\n"
      ],
      "metadata": {
        "id": "aNU4tcsCDn-a",
        "colab": {
          "base_uri": "https://localhost:8080/",
          "height": 656
        },
        "outputId": "e639d2f9-f21b-476b-d521-454c02ec3e4b"
      },
      "execution_count": null,
      "outputs": [
        {
          "output_type": "stream",
          "name": "stdout",
          "text": [
            "Decision Tree:\n",
            "              precision    recall  f1-score   support\n",
            "\n",
            "         0.0       1.00      1.00      1.00     16180\n",
            "         1.0       0.66      0.72      0.69       161\n",
            "\n",
            "    accuracy                           0.99     16341\n",
            "   macro avg       0.83      0.86      0.84     16341\n",
            "weighted avg       0.99      0.99      0.99     16341\n",
            "\n",
            "[[16120    60]\n",
            " [   45   116]]\n"
          ]
        },
        {
          "output_type": "execute_result",
          "data": {
            "text/plain": [
              "[<matplotlib.lines.Line2D at 0x7988047795d0>]"
            ]
          },
          "metadata": {},
          "execution_count": 43
        },
        {
          "output_type": "display_data",
          "data": {
            "text/plain": [
              "<Figure size 640x480 with 1 Axes>"
            ],
            "image/png": "[encoded data removed]"
          },
          "metadata": {}
        }
      ]
    },
    {
      "cell_type": "code",
      "source": [
        "# Random Forest\n",
        "model.set_params(classifier=RandomForestClassifier())\n",
        "model.fit(X_train, y_train)\n",
        "\n",
        "# Predictions\n",
        "y_pred_rf = model.predict(X_test)\n",
        "\n",
        "# Evaluation\n",
        "print(\"Random Forest:\")\n",
        "print(classification_report(y_test, y_pred_rf))\n",
        "print(confusion_matrix(y_test, y_pred_rf))\n",
        "\n",
        "# ROC Curve\n",
        "y_prob_rf = model.predict_proba(X_test)[:, 1]\n",
        "fpr_rf, tpr_rf, _ = roc_curve(y_test, y_prob_rf)\n",
        "plt.plot(fpr_rf, tpr_rf, label='Random Forest (AUC = {:.2f})'.format(roc_auc_score(y_test, y_prob_rf)))\n",
        "\n",
        "# Show ROC Curve\n",
        "plt.xlabel('False Positive Rate')\n",
        "plt.ylabel('True Positive Rate')\n",
        "plt.title('ROC Curve')\n",
        "plt.legend()\n",
        "plt.show()\n"
      ],
      "metadata": {
        "colab": {
          "base_uri": "https://localhost:8080/",
          "height": 680
        },
        "id": "55iNchNpII5O",
        "outputId": "5502b1ea-b8b5-437b-fd9f-9866b40ac4fe"
      },
      "execution_count": null,
      "outputs": [
        {
          "output_type": "stream",
          "name": "stdout",
          "text": [
            "Random Forest:\n",
            "              precision    recall  f1-score   support\n",
            "\n",
            "         0.0       1.00      1.00      1.00     16180\n",
            "         1.0       0.83      0.66      0.74       161\n",
            "\n",
            "    accuracy                           1.00     16341\n",
            "   macro avg       0.91      0.83      0.87     16341\n",
            "weighted avg       1.00      1.00      1.00     16341\n",
            "\n",
            "[[16158    22]\n",
            " [   54   107]]\n"
          ]
        },
        {
          "output_type": "display_data",
          "data": {
            "text/plain": [
              "<Figure size 640x480 with 1 Axes>"
            ],
            "image/png": "[encoded data removed]"
          },
          "metadata": {}
        }
      ]
    },
    {
      "cell_type": "markdown",
      "source": [
        "4. Model Evaluation"
      ],
      "metadata": {
        "id": "UtUxEvNiLJvK"
      }
    },
    {
      "cell_type": "code",
      "source": [
        "# Print AUC scores\n",
        "print(\"AUC Scores:\")\n",
        "print(f\"Logistic Regression: {roc_auc_score(y_test, y_prob_lr):.2f}\")\n",
        "print(f\"Decision Tree: {roc_auc_score(y_test, y_prob_dt):.2f}\")\n",
        "print(f\"Random Forest: {roc_auc_score(y_test, y_prob_rf):.2f}\")\n"
      ],
      "metadata": {
        "colab": {
          "base_uri": "https://localhost:8080/"
        },
        "id": "02Uk60KSIK5C",
        "outputId": "1ac0aa9d-01f1-46c3-9d43-9504cd52d533"
      },
      "execution_count": null,
      "outputs": [
        {
          "output_type": "stream",
          "name": "stdout",
          "text": [
            "AUC Scores:\n",
            "Logistic Regression: 0.85\n",
            "Decision Tree: 0.86\n",
            "Random Forest: 0.95\n"
          ]
        }
      ]
    }
  ]
}