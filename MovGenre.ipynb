{
  "nbformat": 4,
  "nbformat_minor": 0,
  "metadata": {
    "colab": {
      "provenance": [],
      "authorship_tag": "ABX9TyPu8kkQm7LuIiOlVjMfRsxt"
    },
    "kernelspec": {
      "name": "python3",
      "display_name": "Python 3"
    },
    "language_info": {
      "name": "python"
    }
  },
  "cells": [
    {
      "cell_type": "markdown",
      "source": [
        "Step 1: Import Libraries and Load Data"
      ],
      "metadata": {
        "id": "moDvBw7dvJfl"
      }
    },
    {
      "cell_type": "code",
      "source": [
        "# Importing necessary libraries\n",
        "import pandas as pd\n",
        "import numpy as np\n",
        "import nltk\n",
        "from nltk.corpus import stopwords\n",
        "from nltk.stem import WordNetLemmatizer\n",
        "from sklearn.model_selection import train_test_split\n",
        "from sklearn.feature_extraction.text import TfidfVectorizer\n",
        "from sklearn.naive_bayes import MultinomialNB\n",
        "from sklearn.linear_model import LogisticRegression\n",
        "from sklearn.svm import SVC\n",
        "from sklearn.metrics import accuracy_score, classification_report, confusion_matrix\n",
        "\n",
        "nltk.download('stopwords')\n",
        "nltk.download('wordnet')\n",
        "nltk.download('punkt')\n",
        "\n",
        "# Load the dataset\n",
        "data = pd.read_csv('train_data.txt', sep=',', on_bad_lines='skip')\n",
        "\n",
        "# Inspecting the first few rows of the dataset\n",
        "print(data.head())\n",
        "\n",
        "# Inspecting the dataset columns\n",
        "print(data.columns)\n"
      ],
      "metadata": {
        "colab": {
          "base_uri": "https://localhost:8080/"
        },
        "id": "m_aKl35txFHj",
        "outputId": "c82507d1-40dc-4d47-9bb5-a4e21ff70c4a"
      },
      "execution_count": 6,
      "outputs": [
        {
          "output_type": "stream",
          "name": "stderr",
          "text": [
            "[nltk_data] Downloading package stopwords to /root/nltk_data...\n",
            "[nltk_data]   Package stopwords is already up-to-date!\n",
            "[nltk_data] Downloading package wordnet to /root/nltk_data...\n",
            "[nltk_data]   Package wordnet is already up-to-date!\n",
            "[nltk_data] Downloading package punkt to /root/nltk_data...\n",
            "[nltk_data]   Unzipping tokenizers/punkt.zip.\n"
          ]
        },
        {
          "output_type": "stream",
          "name": "stdout",
          "text": [
            "  1 ::: Oscar et la dame rose (2009) ::: drama ::: Listening in to a conversation between his doctor and parents  \\\n",
            "0  2 ::: Cupid (1997) ::: thriller ::: A brother ...                                                               \n",
            "1                                        3 ::: Young                                                               \n",
            "2  5 ::: The Unrecovered (2007) ::: drama ::: The...                                                               \n",
            "3  7 ::: \"Pink Slip\" (2009) ::: comedy ::: In tou...                                                               \n",
            "4  8 ::: One Step Away (1985) ::: crime ::: Ron P...                                                               \n",
            "\n",
            "   10-year-old Oscar learns what nobody has the courage to tell him. He only has a few weeks to live. Furious  \\\n",
            "0                                                NaN                                                            \n",
            "1   Wild and Wonderful (1980) ::: adult ::: As th...                                                            \n",
            "2   but also to the state of the nation at large....                                                            \n",
            "3   they discover that senior housing is cheap. N...                                                            \n",
            "4     as he's on the verge of suspension from school                                                            \n",
            "\n",
            "   he refuses to speak to anyone except straight-talking Rose  \\\n",
            "0                                                NaN            \n",
            "1   little does the tour guide suspect that the s...            \n",
            "2   The Unrecovered examines the effect of terror...            \n",
            "3        the two friends take us on a cross-dressing            \n",
            "4        subject to arrest for breaking and entering            \n",
            "\n",
            "   the lady in pink he meets on the hospital stairs. As Christmas approaches  \\\n",
            "0                                                NaN                           \n",
            "1                           during the lecture films                           \n",
            "2   the way a state of heightened anxiety and/or ...                           \n",
            "3   desperate and endearing ride through being br...                           \n",
            "4   and the cause of his single mother's impendin...                           \n",
            "\n",
            "   Rose uses her fantastical experiences as a professional wrestler  \\\n",
            "0                                                NaN                  \n",
            "1   the coeds drift into dreams of the most eroti...                  \n",
            "2                                            empathy                  \n",
            "3                                                NaN                  \n",
            "4   his only option seems to be life of street cr...                  \n",
            "\n",
            "                                     her imagination  \\\n",
            "0                                                NaN   \n",
            "1   they release the emotion of the fantasies in ...   \n",
            "2   and paranoia relate to one another in the wak...   \n",
            "3                                                NaN   \n",
            "4                                                NaN   \n",
            "\n",
            "   wit and charm to allow Oscar to live life and love to the full  \\\n",
            "0                                                NaN                \n",
            "1                             but as the bus departs                \n",
            "2                                                NaN                \n",
            "3                                                NaN                \n",
            "4                                                NaN                \n",
            "\n",
            "        in the company of his friends Pop Corn  Einstein  \\\n",
            "0                                          NaN       NaN   \n",
            "1   everyone admits it was quite an education.       NaN   \n",
            "2                                          NaN       NaN   \n",
            "3                                          NaN       NaN   \n",
            "4                                          NaN       NaN   \n",
            "\n",
            "   Bacon and childhood sweetheart Peggy Blue.  \n",
            "0                                         NaN  \n",
            "1                                         NaN  \n",
            "2                                         NaN  \n",
            "3                                         NaN  \n",
            "4                                         NaN  \n",
            "Index(['1 ::: Oscar et la dame rose (2009) ::: drama ::: Listening in to a conversation between his doctor and parents',\n",
            "       ' 10-year-old Oscar learns what nobody has the courage to tell him. He only has a few weeks to live. Furious',\n",
            "       ' he refuses to speak to anyone except straight-talking Rose',\n",
            "       ' the lady in pink he meets on the hospital stairs. As Christmas approaches',\n",
            "       ' Rose uses her fantastical experiences as a professional wrestler',\n",
            "       ' her imagination',\n",
            "       ' wit and charm to allow Oscar to live life and love to the full',\n",
            "       ' in the company of his friends Pop Corn', ' Einstein',\n",
            "       ' Bacon and childhood sweetheart Peggy Blue.'],\n",
            "      dtype='object')\n"
          ]
        }
      ]
    },
    {
      "cell_type": "markdown",
      "source": [
        "Step 2: Load and Explore the Data"
      ],
      "metadata": {
        "id": "KAdXxNht9dXP"
      }
    },
    {
      "cell_type": "code",
      "source": [
        "# Sample data structure\n",
        "data = {\n",
        "    'plot_summary': [\n",
        "        \"Listening in to a conversation between his doctor and parents, 10-year-old Oscar learns what nobody has the courage to tell him. He only has a few weeks to live. Furious, he refuses to speak to anyone except straight-talking Rose, the lady in pink he meets on the hospital stairs. As Christmas approaches, Rose uses her fantastical experiences as a professional wrestler, her imagination, wit and charm to allow Oscar to live life and love to the full, in the company of his friends Pop Corn, Einstein, Bacon and childhood sweetheart Peggy Blue.\",\n",
        "        \"Aibileen is a black maid in 1960s Jackson, Mississippi, who's always taken care of white children. She's always wanted to be a writer, and with the help of Skeeter, a recent college grad who wants to be a serious journalist, Aibileen writes about her experiences as a maid. Minny, Aibileen's best friend, is also a maid, but she can't keep a job because of her outspokenness. When Minny finally finds work with Celia Foote, a sweet simple woman ostracized by the high society ladies, she helps Celia navigate her new life and her difficult marriage.\",\n",
        "        \"In 1950s Baltimore, a fat teenager dreams of appearing on a local TV dance show. Along the way, she becomes involved in the fight to integrate the show.\"\n",
        "    ],\n",
        "    'genre': ['drama', 'drama', 'comedy']\n",
        "}\n",
        "\n",
        "# Convert to DataFrame\n",
        "df = pd.DataFrame(data)\n",
        "\n",
        "# Check for missing values\n",
        "print(df.isnull().sum())\n"
      ],
      "metadata": {
        "colab": {
          "base_uri": "https://localhost:8080/"
        },
        "id": "6F5chBaFxKpi",
        "outputId": "712b18d8-1762-4e3e-d622-e121e62c2434"
      },
      "execution_count": 10,
      "outputs": [
        {
          "output_type": "stream",
          "name": "stdout",
          "text": [
            "plot_summary    0\n",
            "genre           0\n",
            "dtype: int64\n"
          ]
        }
      ]
    },
    {
      "cell_type": "markdown",
      "source": [
        "Step 3: Data Preprocessing"
      ],
      "metadata": {
        "id": "WhsWBQAe9hwg"
      }
    },
    {
      "cell_type": "code",
      "source": [
        "# Text Cleaning and LemmatizationText Cleaning and Lemmatization\n",
        "stop_words = set(stopwords.words('english'))\n",
        "lemmatizer = WordNetLemmatizer()\n",
        "\n",
        "def preprocess_text(text):\n",
        "    # Convert to lowercase\n",
        "    text = text.lower()\n",
        "    # Tokenize\n",
        "    words = nltk.word_tokenize(text)\n",
        "    # Remove stopwords and lemmatize\n",
        "    words = [lemmatizer.lemmatize(word) for word in words if word.isalpha() and word not in stop_words]\n",
        "    return ' '.join(words)\n",
        "\n",
        "df['cleaned_plot'] = df['plot_summary'].apply(preprocess_text)\n",
        "print(df.head())\n"
      ],
      "metadata": {
        "colab": {
          "base_uri": "https://localhost:8080/"
        },
        "id": "x6OKeFVwT8Ib",
        "outputId": "efd0c5b0-c3a6-49c6-c2f6-424182da00ff"
      },
      "execution_count": 11,
      "outputs": [
        {
          "output_type": "stream",
          "name": "stdout",
          "text": [
            "                                        plot_summary   genre  \\\n",
            "0  Listening in to a conversation between his doc...   drama   \n",
            "1  Aibileen is a black maid in 1960s Jackson, Mis...   drama   \n",
            "2  In 1950s Baltimore, a fat teenager dreams of a...  comedy   \n",
            "\n",
            "                                        cleaned_plot  \n",
            "0  listening conversation doctor parent oscar lea...  \n",
            "1  aibileen black maid jackson mississippi always...  \n",
            "2  baltimore fat teenager dream appearing local t...  \n"
          ]
        }
      ]
    },
    {
      "cell_type": "markdown",
      "source": [
        "Step 4: Feature Extraction using TF-IDF"
      ],
      "metadata": {
        "id": "iaC7ASRA9o7p"
      }
    },
    {
      "cell_type": "code",
      "source": [
        "tfidf_vectorizer = TfidfVectorizer(max_features=5000)\n",
        "X = tfidf_vectorizer.fit_transform(df['cleaned_plot']).toarray()\n",
        "y = df['genre']\n",
        "\n",
        "# Split the data into training and testing sets\n",
        "X_train, X_test, y_train, y_test = train_test_split(X, y, test_size=0.2, random_state=42)\n"
      ],
      "metadata": {
        "id": "2ffPchDkCq-F"
      },
      "execution_count": 12,
      "outputs": []
    },
    {
      "cell_type": "markdown",
      "source": [
        "Step 5: Model Building and Evaluation"
      ],
      "metadata": {
        "id": "NTS9Ds619uc3"
      }
    },
    {
      "cell_type": "markdown",
      "source": [
        "Naive Bayes Classifier"
      ],
      "metadata": {
        "id": "LSYRa8IL91hv"
      }
    },
    {
      "cell_type": "code",
      "execution_count": 13,
      "metadata": {
        "colab": {
          "base_uri": "https://localhost:8080/"
        },
        "id": "FP6AdiUlujpc",
        "outputId": "359744c9-159b-468e-8aca-328ff934451d"
      },
      "outputs": [
        {
          "output_type": "stream",
          "name": "stdout",
          "text": [
            "Naive Bayes Performance:\n",
            "Accuracy: 0.0\n",
            "[[0 0]\n",
            " [1 0]]\n",
            "              precision    recall  f1-score   support\n",
            "\n",
            "      comedy       0.00      0.00      0.00       0.0\n",
            "       drama       0.00      0.00      0.00       1.0\n",
            "\n",
            "    accuracy                           0.00       1.0\n",
            "   macro avg       0.00      0.00      0.00       1.0\n",
            "weighted avg       0.00      0.00      0.00       1.0\n",
            "\n"
          ]
        },
        {
          "output_type": "stream",
          "name": "stderr",
          "text": [
            "/usr/local/lib/python3.10/dist-packages/sklearn/metrics/_classification.py:1344: UndefinedMetricWarning: Precision and F-score are ill-defined and being set to 0.0 in labels with no predicted samples. Use `zero_division` parameter to control this behavior.\n",
            "  _warn_prf(average, modifier, msg_start, len(result))\n",
            "/usr/local/lib/python3.10/dist-packages/sklearn/metrics/_classification.py:1344: UndefinedMetricWarning: Recall and F-score are ill-defined and being set to 0.0 in labels with no true samples. Use `zero_division` parameter to control this behavior.\n",
            "  _warn_prf(average, modifier, msg_start, len(result))\n",
            "/usr/local/lib/python3.10/dist-packages/sklearn/metrics/_classification.py:1344: UndefinedMetricWarning: Precision and F-score are ill-defined and being set to 0.0 in labels with no predicted samples. Use `zero_division` parameter to control this behavior.\n",
            "  _warn_prf(average, modifier, msg_start, len(result))\n",
            "/usr/local/lib/python3.10/dist-packages/sklearn/metrics/_classification.py:1344: UndefinedMetricWarning: Recall and F-score are ill-defined and being set to 0.0 in labels with no true samples. Use `zero_division` parameter to control this behavior.\n",
            "  _warn_prf(average, modifier, msg_start, len(result))\n",
            "/usr/local/lib/python3.10/dist-packages/sklearn/metrics/_classification.py:1344: UndefinedMetricWarning: Precision and F-score are ill-defined and being set to 0.0 in labels with no predicted samples. Use `zero_division` parameter to control this behavior.\n",
            "  _warn_prf(average, modifier, msg_start, len(result))\n",
            "/usr/local/lib/python3.10/dist-packages/sklearn/metrics/_classification.py:1344: UndefinedMetricWarning: Recall and F-score are ill-defined and being set to 0.0 in labels with no true samples. Use `zero_division` parameter to control this behavior.\n",
            "  _warn_prf(average, modifier, msg_start, len(result))\n"
          ]
        }
      ],
      "source": [
        "# Initialize and train the model\n",
        "nb_clf = MultinomialNB()\n",
        "nb_clf.fit(X_train, y_train)\n",
        "\n",
        "# Make predictions\n",
        "y_pred_nb = nb_clf.predict(X_test)\n",
        "\n",
        "# Evaluate the model\n",
        "print(\"Naive Bayes Performance:\")\n",
        "print(\"Accuracy:\", accuracy_score(y_test, y_pred_nb))\n",
        "print(confusion_matrix(y_test, y_pred_nb))\n",
        "print(classification_report(y_test, y_pred_nb))"
      ]
    },
    {
      "cell_type": "markdown",
      "source": [
        "Logistic Regression"
      ],
      "metadata": {
        "id": "QESBjeCx96KY"
      }
    },
    {
      "cell_type": "code",
      "source": [
        "# Initialize and train the model\n",
        "log_reg = LogisticRegression(max_iter=1000)\n",
        "log_reg.fit(X_train, y_train)\n",
        "\n",
        "# Make predictions\n",
        "y_pred_log_reg = log_reg.predict(X_test)\n",
        "\n",
        "# Evaluate the model\n",
        "print(\"Logistic Regression Performance:\")\n",
        "print(\"Accuracy:\", accuracy_score(y_test, y_pred_log_reg))\n",
        "print(confusion_matrix(y_test, y_pred_log_reg))\n",
        "print(classification_report(y_test, y_pred_log_reg))\n"
      ],
      "metadata": {
        "colab": {
          "base_uri": "https://localhost:8080/"
        },
        "id": "D1d9o2dYbOsD",
        "outputId": "e595e603-96d4-42d0-f190-622dafe5ff03"
      },
      "execution_count": 14,
      "outputs": [
        {
          "output_type": "stream",
          "name": "stdout",
          "text": [
            "Logistic Regression Performance:\n",
            "Accuracy: 1.0\n",
            "[[1]]\n",
            "              precision    recall  f1-score   support\n",
            "\n",
            "       drama       1.00      1.00      1.00         1\n",
            "\n",
            "    accuracy                           1.00         1\n",
            "   macro avg       1.00      1.00      1.00         1\n",
            "weighted avg       1.00      1.00      1.00         1\n",
            "\n"
          ]
        }
      ]
    },
    {
      "cell_type": "markdown",
      "source": [
        "Support Vector Machine (SVM)"
      ],
      "metadata": {
        "id": "80qL6F0e9-xq"
      }
    },
    {
      "cell_type": "code",
      "source": [
        "# Initialize and train the model\n",
        "svm_clf = SVC()\n",
        "svm_clf.fit(X_train, y_train)\n",
        "\n",
        "# Make predictions\n",
        "y_pred_svm = svm_clf.predict(X_test)\n",
        "\n",
        "# Evaluate the model\n",
        "print(\"SVM Performance:\")\n",
        "print(\"Accuracy:\", accuracy_score(y_test, y_pred_svm))\n",
        "print(confusion_matrix(y_test, y_pred_svm))\n",
        "print(classification_report(y_test, y_pred_svm))\n"
      ],
      "metadata": {
        "id": "13SXVmDuvT56",
        "colab": {
          "base_uri": "https://localhost:8080/"
        },
        "outputId": "02615377-cc3f-423d-91c0-23637814b7cf"
      },
      "execution_count": 15,
      "outputs": [
        {
          "output_type": "stream",
          "name": "stdout",
          "text": [
            "SVM Performance:\n",
            "Accuracy: 1.0\n",
            "[[1]]\n",
            "              precision    recall  f1-score   support\n",
            "\n",
            "       drama       1.00      1.00      1.00         1\n",
            "\n",
            "    accuracy                           1.00         1\n",
            "   macro avg       1.00      1.00      1.00         1\n",
            "weighted avg       1.00      1.00      1.00         1\n",
            "\n"
          ]
        }
      ]
    },
    {
      "cell_type": "markdown",
      "source": [
        "Step 6: Model Comparison and Conclusion"
      ],
      "metadata": {
        "id": "bhWx01gT-DsS"
      }
    },
    {
      "cell_type": "code",
      "source": [
        "# Compare the models\n",
        "models = ['Naive Bayes', 'Logistic Regression', 'SVM']\n",
        "accuracy_scores = [accuracy_score(y_test, y_pred_nb),\n",
        "                   accuracy_score(y_test, y_pred_log_reg),\n",
        "                   accuracy_score(y_test, y_pred_svm)]\n",
        "\n",
        "# Plot the results\n",
        "import matplotlib.pyplot as plt\n",
        "fig, ax = plt.subplots()\n",
        "ax.bar(models, accuracy_scores)\n",
        "ax.set_title('Model Accuracy Comparison')\n",
        "ax.set_ylabel('Accuracy')\n",
        "plt.show()\n",
        "\n",
        "# Conclusion\n",
        "print(\"Based on the evaluation metrics, we can determine which model performs the best in predicting movie genres based on plot summaries.\")\n"
      ],
      "metadata": {
        "colab": {
          "base_uri": "https://localhost:8080/",
          "height": 469
        },
        "id": "yYUouJ1P9EDN",
        "outputId": "fa307ebe-16f4-4582-9928-72ad60737fd9"
      },
      "execution_count": 16,
      "outputs": [
        {
          "output_type": "display_data",
          "data": {
            "text/plain": [
              "<Figure size 640x480 with 1 Axes>"
            ],
            "image/png": "[encoded data removed]"
          },
          "metadata": {}
        },
        {
          "output_type": "stream",
          "name": "stdout",
          "text": [
            "Based on the evaluation metrics, we can determine which model performs the best in predicting movie genres based on plot summaries.\n"
          ]
        }
      ]
    }
  ]
}